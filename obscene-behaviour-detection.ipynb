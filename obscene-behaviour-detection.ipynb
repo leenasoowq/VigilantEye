{
 "cells": [
  {
   "cell_type": "code",
   "execution_count": 3,
   "metadata": {},
   "outputs": [
    {
     "ename": "NameError",
     "evalue": "name 'nvidia' is not defined",
     "output_type": "error",
     "traceback": [
      "\u001b[1;31m---------------------------------------------------------------------------\u001b[0m",
      "\u001b[1;31mNameError\u001b[0m                                 Traceback (most recent call last)",
      "Cell \u001b[1;32mIn[3], line 1\u001b[0m\n\u001b[1;32m----> 1\u001b[0m \u001b[43mnvidia\u001b[49m\u001b[38;5;241m-\u001b[39msmi\n",
      "\u001b[1;31mNameError\u001b[0m: name 'nvidia' is not defined"
     ]
    }
   ],
   "source": [
    "nvidia-smi\n"
   ]
  },
  {
   "cell_type": "code",
   "execution_count": 4,
   "metadata": {
    "execution": {
     "iopub.execute_input": "2025-03-05T11:20:39.811578Z",
     "iopub.status.busy": "2025-03-05T11:20:39.811279Z",
     "iopub.status.idle": "2025-03-05T11:21:27.065696Z",
     "shell.execute_reply": "2025-03-05T11:21:27.064903Z",
     "shell.execute_reply.started": "2025-03-05T11:20:39.811552Z"
    },
    "trusted": true
   },
   "outputs": [
    {
     "name": "stdout",
     "output_type": "stream",
     "text": [
      "Training samples: 1266345\n",
      "Testing samples: 111308\n",
      "Classes: ['Abuse' 'Arrest' 'Arson' 'Assault' 'Burglary' 'Explosion' 'Fighting' 'NormalVideos' 'RoadAccidents' 'Robbery' 'Shooting' 'Shoplifting' 'Stealing' 'Vandalism']\n"
     ]
    }
   ],
   "source": [
    "import os\n",
    "import numpy as np\n",
    "from sklearn.preprocessing import LabelEncoder\n",
    "from ultralytics import YOLO\n",
    "import cv2\n",
    "import glob\n",
    "import shutil\n",
    "import random\n",
    "\n",
    "\n",
    "# Define paths\n",
    "train_path = \"/kaggle/input/ucf-crime-dataset/Train\"\n",
    "test_path = \"/kaggle/input/ucf-crime-dataset/Test\"\n",
    "\n",
    "# Function to load frames and labels\n",
    "def load_dataset(dataset_path):\n",
    "    frame_paths = []\n",
    "    labels = []\n",
    "\n",
    "    for class_name in os.listdir(dataset_path):\n",
    "        class_path = os.path.join(dataset_path, class_name)\n",
    "        if os.path.isdir(class_path):\n",
    "            for frame_name in os.listdir(class_path):\n",
    "                frame_paths.append(os.path.join(class_path, frame_name))\n",
    "                labels.append(class_name)\n",
    "\n",
    "    return frame_paths, labels\n",
    "\n",
    "# Load training and testing data\n",
    "X_train, y_train = load_dataset(train_path)\n",
    "X_test, y_test = load_dataset(test_path)\n",
    "\n",
    "# Encode labels as integers\n",
    "label_encoder = LabelEncoder()\n",
    "y_train = label_encoder.fit_transform(y_train)\n",
    "y_test = label_encoder.transform(y_test)\n",
    "\n",
    "print(\"Training samples:\", len(X_train))\n",
    "print(\"Testing samples:\", len(X_test))\n",
    "print(\"Classes:\", label_encoder.classes_)"
   ]
  },
  {
   "cell_type": "code",
   "execution_count": 3,
   "metadata": {
    "execution": {
     "iopub.execute_input": "2025-03-05T10:34:48.079499Z",
     "iopub.status.busy": "2025-03-05T10:34:48.079026Z",
     "iopub.status.idle": "2025-03-05T10:34:48.083276Z",
     "shell.execute_reply": "2025-03-05T10:34:48.082300Z",
     "shell.execute_reply.started": "2025-03-05T10:34:48.079463Z"
    },
    "trusted": true
   },
   "outputs": [],
   "source": [
    "DATASET_PATH = \"/kaggle/input/ucf-crime-dataset\"\n",
    "TRAIN_PATH = f\"{DATASET_PATH}/Train\"\n",
    "TEST_PATH = f\"{DATASET_PATH}/Test\"\n",
    "YOLO_DATASET_PATH = \"/kaggle/working/UCF-YOLO\"\n"
   ]
  },
  {
   "cell_type": "code",
   "execution_count": 4,
   "metadata": {
    "execution": {
     "iopub.execute_input": "2025-03-05T10:35:33.847443Z",
     "iopub.status.busy": "2025-03-05T10:35:33.847155Z",
     "iopub.status.idle": "2025-03-05T10:35:33.852490Z",
     "shell.execute_reply": "2025-03-05T10:35:33.851524Z",
     "shell.execute_reply.started": "2025-03-05T10:35:33.847422Z"
    },
    "trusted": true
   },
   "outputs": [],
   "source": [
    "# Create folders for YOLO dataset\n",
    "os.makedirs(f\"{YOLO_DATASET_PATH}/images/train\", exist_ok=True)\n",
    "os.makedirs(f\"{YOLO_DATASET_PATH}/images/val\", exist_ok=True)\n",
    "os.makedirs(f\"{YOLO_DATASET_PATH}/labels/train\", exist_ok=True)\n",
    "os.makedirs(f\"{YOLO_DATASET_PATH}/labels/val\", exist_ok=True)\n"
   ]
  },
  {
   "cell_type": "code",
   "execution_count": 5,
   "metadata": {
    "execution": {
     "iopub.execute_input": "2025-03-05T10:35:42.227225Z",
     "iopub.status.busy": "2025-03-05T10:35:42.226859Z",
     "iopub.status.idle": "2025-03-05T10:36:25.654411Z",
     "shell.execute_reply": "2025-03-05T10:36:25.653521Z",
     "shell.execute_reply.started": "2025-03-05T10:35:42.227195Z"
    },
    "trusted": true
   },
   "outputs": [],
   "source": [
    "def copy_images(source_folder, dest_folder, train_ratio=0.8):\n",
    "    all_files = glob.glob(f\"{source_folder}/*/*.jpg\")  # Adjust if PNG\n",
    "    random.shuffle(all_files)\n",
    "    \n",
    "    train_size = int(len(all_files) * train_ratio)\n",
    "    \n",
    "    for i, file in enumerate(all_files):\n",
    "        filename = os.path.basename(file)\n",
    "        if i < train_size:\n",
    "            shutil.copy(file, f\"{YOLO_DATASET_PATH}/images/train/{filename}\")\n",
    "        else:\n",
    "            shutil.copy(file, f\"{YOLO_DATASET_PATH}/images/val/{filename}\")\n",
    "\n",
    "# Move frames from train/test folders\n",
    "copy_images(TRAIN_PATH, f\"{YOLO_DATASET_PATH}/images\")\n",
    "copy_images(TEST_PATH, f\"{YOLO_DATASET_PATH}/images\")\n"
   ]
  },
  {
   "cell_type": "code",
   "execution_count": 5,
   "metadata": {
    "execution": {
     "iopub.execute_input": "2025-03-05T11:21:39.621371Z",
     "iopub.status.busy": "2025-03-05T11:21:39.620696Z",
     "iopub.status.idle": "2025-03-05T11:21:39.842155Z",
     "shell.execute_reply": "2025-03-05T11:21:39.840756Z",
     "shell.execute_reply.started": "2025-03-05T11:21:39.621321Z"
    },
    "trusted": true
   },
   "outputs": [
    {
     "ename": "NameError",
     "evalue": "name 'YOLO_DATASET_PATH' is not defined",
     "output_type": "error",
     "traceback": [
      "\u001b[0;31m---------------------------------------------------------------------------\u001b[0m",
      "\u001b[0;31mNameError\u001b[0m                                 Traceback (most recent call last)",
      "\u001b[0;32m<ipython-input-5-638d73446b69>\u001b[0m in \u001b[0;36m<cell line: 5>\u001b[0;34m()\u001b[0m\n\u001b[1;32m      3\u001b[0m \u001b[0;34m\u001b[0m\u001b[0m\n\u001b[1;32m      4\u001b[0m \u001b[0;31m# Process images and generate labels\u001b[0m\u001b[0;34m\u001b[0m\u001b[0;34m\u001b[0m\u001b[0m\n\u001b[0;32m----> 5\u001b[0;31m \u001b[0mimage_folder\u001b[0m \u001b[0;34m=\u001b[0m \u001b[0;34mf\"{YOLO_DATASET_PATH}/images/train\"\u001b[0m\u001b[0;34m\u001b[0m\u001b[0;34m\u001b[0m\u001b[0m\n\u001b[0m\u001b[1;32m      6\u001b[0m \u001b[0mlabel_folder\u001b[0m \u001b[0;34m=\u001b[0m \u001b[0;34mf\"{YOLO_DATASET_PATH}/labels/train\"\u001b[0m\u001b[0;34m\u001b[0m\u001b[0;34m\u001b[0m\u001b[0m\n\u001b[1;32m      7\u001b[0m \u001b[0;34m\u001b[0m\u001b[0m\n",
      "\u001b[0;31mNameError\u001b[0m: name 'YOLO_DATASET_PATH' is not defined"
     ]
    }
   ],
   "source": [
    "# Load YOLOv8-Pose model\n",
    "pose_model = YOLO(\"yolov8n-pose.pt\")\n",
    "\n",
    "# Process images and generate labels\n",
    "image_folder = f\"{YOLO_DATASET_PATH}/images/train\"\n",
    "label_folder = f\"{YOLO_DATASET_PATH}/labels/train\"\n",
    "\n",
    "os.makedirs(label_folder, exist_ok=True)\n",
    "\n",
    "for img_path in glob.glob(f\"{image_folder}/*.jpg\"):\n",
    "    results = pose_model(img_path)  # Run inference\n",
    "\n",
    "    label_file = os.path.join(label_folder, os.path.basename(img_path).replace(\".jpg\", \".txt\"))\n",
    "    with open(label_file, \"w\") as f:\n",
    "        for result in results:\n",
    "            for pose in result.keypoints.data:\n",
    "                x_center, y_center = pose[0].item(), pose[1].item()\n",
    "                f.write(f\"0 {x_center} {y_center} 0.1 0.1\\n\")  # Adjust bounding box size\n"
   ]
  },
  {
   "cell_type": "code",
   "execution_count": 6,
   "metadata": {
    "execution": {
     "iopub.execute_input": "2025-03-05T11:21:47.673484Z",
     "iopub.status.busy": "2025-03-05T11:21:47.672970Z",
     "iopub.status.idle": "2025-03-05T11:21:47.678680Z",
     "shell.execute_reply": "2025-03-05T11:21:47.677748Z",
     "shell.execute_reply.started": "2025-03-05T11:21:47.673453Z"
    },
    "trusted": true
   },
   "outputs": [
    {
     "name": "stdout",
     "output_type": "stream",
     "text": [
      "✅ data.yaml updated successfully!\n"
     ]
    }
   ],
   "source": [
    "data_yaml_content = \"\"\"path: /kaggle/working/UCF-YOLO\n",
    "train: images/train\n",
    "val: images/val\n",
    "nc: 1\n",
    "names: [\"person\"]\n",
    "kpt_shape: [17, 3]\n",
    "\"\"\"\n",
    "\n",
    "yaml_file_path = \"/kaggle/working/UCF-YOLO/data.yaml\"\n",
    "\n",
    "with open(yaml_file_path, \"w\") as file:\n",
    "    file.write(data_yaml_content)\n",
    "\n",
    "print(\"✅ data.yaml updated successfully!\")\n"
   ]
  },
  {
   "cell_type": "code",
   "execution_count": 7,
   "metadata": {
    "execution": {
     "iopub.execute_input": "2025-03-05T11:21:51.836215Z",
     "iopub.status.busy": "2025-03-05T11:21:51.835826Z",
     "iopub.status.idle": "2025-03-05T14:02:56.565577Z",
     "shell.execute_reply": "2025-03-05T14:02:56.564574Z",
     "shell.execute_reply.started": "2025-03-05T11:21:51.836166Z"
    },
    "trusted": true
   },
   "outputs": [
    {
     "name": "stdout",
     "output_type": "stream",
     "text": [
      "✅ Only selected categories moved successfully!\n"
     ]
    }
   ],
   "source": [
    "import os\n",
    "import glob\n",
    "import shutil\n",
    "\n",
    "# Define original dataset paths\n",
    "DATASET_PATH = \"/kaggle/input/ucf-crime-dataset\"\n",
    "TRAIN_PATH = f\"{DATASET_PATH}/Train\"\n",
    "TEST_PATH = f\"{DATASET_PATH}/Test\"\n",
    "\n",
    "# Define YOLO dataset structure\n",
    "YOLO_DATASET_PATH = \"/kaggle/working/UCF-YOLO\"\n",
    "YOLO_TRAIN_IMAGES = f\"{YOLO_DATASET_PATH}/images/train\"\n",
    "YOLO_VAL_IMAGES = f\"{YOLO_DATASET_PATH}/images/val\"\n",
    "\n",
    "# Create YOLO dataset directories\n",
    "os.makedirs(YOLO_TRAIN_IMAGES, exist_ok=True)\n",
    "os.makedirs(YOLO_VAL_IMAGES, exist_ok=True)\n",
    "\n",
    "# Define selected categories\n",
    "SELECTED_CATEGORIES = [\"Abuse\", \"Arson\", \"Assault\", \"Fighting\", \"NormalVideos\", \"Robbery\", \"Vandalism\"]\n",
    "\n",
    "# Function to move only selected categories into YOLO train/val folders\n",
    "def move_selected_images(source_folder, dest_folder, train_ratio=0.8):\n",
    "    all_images = []\n",
    "    for category in SELECTED_CATEGORIES:\n",
    "        category_path = os.path.join(source_folder, category)\n",
    "        if os.path.exists(category_path):\n",
    "            all_images.extend(glob.glob(f\"{category_path}/*.png\"))  # Change to .jpg if needed\n",
    "\n",
    "    train_size = int(len(all_images) * train_ratio)\n",
    "\n",
    "    for i, image in enumerate(all_images):\n",
    "        filename = os.path.basename(image)\n",
    "        if i < train_size:\n",
    "            shutil.copy(image, f\"{YOLO_TRAIN_IMAGES}/{filename}\")\n",
    "        else:\n",
    "            shutil.copy(image, f\"{YOLO_VAL_IMAGES}/{filename}\")\n",
    "\n",
    "# Move images from Train and Test sets\n",
    "move_selected_images(TRAIN_PATH, YOLO_TRAIN_IMAGES)\n",
    "move_selected_images(TEST_PATH, YOLO_VAL_IMAGES)\n",
    "\n",
    "print(\"✅ Only selected categories moved successfully!\")\n"
   ]
  },
  {
   "cell_type": "code",
   "execution_count": null,
   "metadata": {
    "execution": {
     "iopub.execute_input": "2025-03-05T14:08:51.318583Z",
     "iopub.status.busy": "2025-03-05T14:08:51.318170Z"
    },
    "trusted": true
   },
   "outputs": [
    {
     "name": "stdout",
     "output_type": "stream",
     "text": [
      "Ultralytics 8.3.83 🚀 Python-3.10.12 torch-2.5.1+cu121 CUDA:0 (Tesla T4, 15095MiB)\n",
      "\u001b[34m\u001b[1mengine/trainer: \u001b[0mtask=pose, mode=train, model=yolov8n-pose.pt, data=/kaggle/working/UCF-YOLO/data.yaml, epochs=5, time=None, patience=100, batch=16, imgsz=640, save=True, save_period=-1, cache=False, device=None, workers=8, project=None, name=train4, exist_ok=False, pretrained=True, optimizer=auto, verbose=True, seed=0, deterministic=True, single_cls=False, rect=False, cos_lr=False, close_mosaic=10, resume=False, amp=True, fraction=1.0, profile=False, freeze=None, multi_scale=False, overlap_mask=True, mask_ratio=4, dropout=0.0, val=True, split=val, save_json=False, save_hybrid=False, conf=None, iou=0.7, max_det=300, half=False, dnn=False, plots=True, source=None, vid_stride=1, stream_buffer=False, visualize=False, augment=False, agnostic_nms=False, classes=None, retina_masks=False, embed=None, show=False, save_frames=False, save_txt=False, save_conf=False, save_crop=False, show_labels=True, show_conf=True, show_boxes=True, line_width=None, format=torchscript, keras=False, optimize=False, int8=False, dynamic=False, simplify=True, opset=None, workspace=None, nms=False, lr0=0.01, lrf=0.01, momentum=0.937, weight_decay=0.0005, warmup_epochs=3.0, warmup_momentum=0.8, warmup_bias_lr=0.1, box=7.5, cls=0.5, dfl=1.5, pose=12.0, kobj=1.0, nbs=64, hsv_h=0.015, hsv_s=0.7, hsv_v=0.4, degrees=0.0, translate=0.1, scale=0.5, shear=0.0, perspective=0.0, flipud=0.0, fliplr=0.5, bgr=0.0, mosaic=1.0, mixup=0.0, copy_paste=0.0, copy_paste_mode=flip, auto_augment=randaugment, erasing=0.4, crop_fraction=1.0, cfg=None, tracker=botsort.yaml, save_dir=runs/pose/train4\n",
      "\n",
      "                   from  n    params  module                                       arguments                     \n",
      "  0                  -1  1       464  ultralytics.nn.modules.conv.Conv             [3, 16, 3, 2]                 \n",
      "  1                  -1  1      4672  ultralytics.nn.modules.conv.Conv             [16, 32, 3, 2]                \n",
      "  2                  -1  1      7360  ultralytics.nn.modules.block.C2f             [32, 32, 1, True]             \n",
      "  3                  -1  1     18560  ultralytics.nn.modules.conv.Conv             [32, 64, 3, 2]                \n",
      "  4                  -1  2     49664  ultralytics.nn.modules.block.C2f             [64, 64, 2, True]             \n",
      "  5                  -1  1     73984  ultralytics.nn.modules.conv.Conv             [64, 128, 3, 2]               \n",
      "  6                  -1  2    197632  ultralytics.nn.modules.block.C2f             [128, 128, 2, True]           \n",
      "  7                  -1  1    295424  ultralytics.nn.modules.conv.Conv             [128, 256, 3, 2]              \n",
      "  8                  -1  1    460288  ultralytics.nn.modules.block.C2f             [256, 256, 1, True]           \n",
      "  9                  -1  1    164608  ultralytics.nn.modules.block.SPPF            [256, 256, 5]                 \n",
      " 10                  -1  1         0  torch.nn.modules.upsampling.Upsample         [None, 2, 'nearest']          \n",
      " 11             [-1, 6]  1         0  ultralytics.nn.modules.conv.Concat           [1]                           \n",
      " 12                  -1  1    148224  ultralytics.nn.modules.block.C2f             [384, 128, 1]                 \n",
      " 13                  -1  1         0  torch.nn.modules.upsampling.Upsample         [None, 2, 'nearest']          \n",
      " 14             [-1, 4]  1         0  ultralytics.nn.modules.conv.Concat           [1]                           \n",
      " 15                  -1  1     37248  ultralytics.nn.modules.block.C2f             [192, 64, 1]                  \n",
      " 16                  -1  1     36992  ultralytics.nn.modules.conv.Conv             [64, 64, 3, 2]                \n",
      " 17            [-1, 12]  1         0  ultralytics.nn.modules.conv.Concat           [1]                           \n",
      " 18                  -1  1    123648  ultralytics.nn.modules.block.C2f             [192, 128, 1]                 \n",
      " 19                  -1  1    147712  ultralytics.nn.modules.conv.Conv             [128, 128, 3, 2]              \n",
      " 20             [-1, 9]  1         0  ultralytics.nn.modules.conv.Concat           [1]                           \n",
      " 21                  -1  1    493056  ultralytics.nn.modules.block.C2f             [384, 256, 1]                 \n",
      " 22        [15, 18, 21]  1   1035934  ultralytics.nn.modules.head.Pose             [1, [17, 3], [64, 128, 256]]  \n",
      "YOLOv8n-pose summary: 144 layers, 3,295,470 parameters, 3,295,454 gradients, 9.3 GFLOPs\n",
      "\n",
      "Transferred 397/397 items from pretrained weights\n",
      "\u001b[34m\u001b[1mTensorBoard: \u001b[0mStart with 'tensorboard --logdir runs/pose/train4', view at http://localhost:6006/\n",
      "Freezing layer 'model.22.dfl.conv.weight'\n",
      "\u001b[34m\u001b[1mAMP: \u001b[0mrunning Automatic Mixed Precision (AMP) checks...\n",
      "\u001b[34m\u001b[1mAMP: \u001b[0mchecks passed ✅\n"
     ]
    },
    {
     "name": "stderr",
     "output_type": "stream",
     "text": [
      "\u001b[34m\u001b[1mtrain: \u001b[0mScanning /kaggle/working/UCF-YOLO/labels/train... 0 images, 965654 backgrounds, 1 corrupt: 100%|██████████| 965655/965655 [09:31<00:00, 1689.07it/s]"
     ]
    },
    {
     "name": "stdout",
     "output_type": "stream",
     "text": [
      "\u001b[34m\u001b[1mtrain: \u001b[0mWARNING ⚠️ /kaggle/working/UCF-YOLO/images/train/Arrest026_x264_4150.png: ignoring corrupt image/label: cannot identify image file '/kaggle/working/UCF-YOLO/images/train/Arrest026_x264_4150.png'\n",
      "\u001b[34m\u001b[1mtrain: \u001b[0mWARNING ⚠️ No labels found in /kaggle/working/UCF-YOLO/labels/train.cache. See https://docs.ultralytics.com/datasets for dataset formatting guidance.\n"
     ]
    },
    {
     "name": "stderr",
     "output_type": "stream",
     "text": [
      "\n"
     ]
    },
    {
     "name": "stdout",
     "output_type": "stream",
     "text": [
      "\u001b[34m\u001b[1mtrain: \u001b[0mNew cache created: /kaggle/working/UCF-YOLO/labels/train.cache\n",
      "WARNING ⚠️ No labels found in /kaggle/working/UCF-YOLO/labels/train.cache, training may not work correctly. See https://docs.ultralytics.com/datasets for dataset formatting guidance.\n",
      "WARNING ⚠️ No 'flip_idx' array defined in data.yaml, setting augmentation 'fliplr=0.0'\n",
      "\u001b[34m\u001b[1malbumentations: \u001b[0mBlur(p=0.01, blur_limit=(3, 7)), MedianBlur(p=0.01, blur_limit=(3, 7)), ToGray(p=0.01, num_output_channels=3, method='weighted_average'), CLAHE(p=0.01, clip_limit=(1.0, 4.0), tile_grid_size=(8, 8))\n"
     ]
    },
    {
     "name": "stderr",
     "output_type": "stream",
     "text": [
      "/usr/local/lib/python3.10/dist-packages/albumentations/__init__.py:24: UserWarning: A new version of Albumentations is available: 2.0.5 (you have 1.4.20). Upgrade using: pip install -U albumentations. To disable automatic update checks, set the environment variable NO_ALBUMENTATIONS_UPDATE to 1.\n",
      "  check_for_updates()\n",
      "\u001b[34m\u001b[1mval: \u001b[0mScanning /kaggle/working/UCF-YOLO/labels/val... 0 images, 231062 backgrounds, 0 corrupt: 100%|██████████| 231062/231062 [02:21<00:00, 1629.15it/s]"
     ]
    },
    {
     "name": "stdout",
     "output_type": "stream",
     "text": [
      "\u001b[34m\u001b[1mval: \u001b[0mWARNING ⚠️ No labels found in /kaggle/working/UCF-YOLO/labels/val.cache. See https://docs.ultralytics.com/datasets for dataset formatting guidance.\n"
     ]
    },
    {
     "name": "stderr",
     "output_type": "stream",
     "text": [
      "\n"
     ]
    },
    {
     "name": "stdout",
     "output_type": "stream",
     "text": [
      "\u001b[34m\u001b[1mval: \u001b[0mNew cache created: /kaggle/working/UCF-YOLO/labels/val.cache\n",
      "WARNING ⚠️ No labels found in /kaggle/working/UCF-YOLO/labels/val.cache, training may not work correctly. See https://docs.ultralytics.com/datasets for dataset formatting guidance.\n",
      "Plotting labels to runs/pose/train4/labels.jpg... \n",
      "zero-size array to reduction operation maximum which has no identity\n",
      "\u001b[34m\u001b[1moptimizer:\u001b[0m 'optimizer=auto' found, ignoring 'lr0=0.01' and 'momentum=0.937' and determining best 'optimizer', 'lr0' and 'momentum' automatically... \n",
      "\u001b[34m\u001b[1moptimizer:\u001b[0m SGD(lr=0.01, momentum=0.9) with parameter groups 63 weight(decay=0.0), 73 weight(decay=0.0005), 72 bias(decay=0.0)\n",
      "\u001b[34m\u001b[1mTensorBoard: \u001b[0mmodel graph visualization added ✅\n",
      "Image sizes 640 train, 640 val\n",
      "Using 2 dataloader workers\n",
      "Logging results to \u001b[1mruns/pose/train4\u001b[0m\n",
      "Starting training for 5 epochs...\n",
      "\n",
      "      Epoch    GPU_mem   box_loss  pose_loss  kobj_loss   cls_loss   dfl_loss  Instances       Size\n"
     ]
    },
    {
     "name": "stderr",
     "output_type": "stream",
     "text": [
      "        1/5      2.08G          0          0          0      4.407          0          0        640:  17%|█▋        | 10473/60354 [26:52<2:07:13,  6.53it/s]"
     ]
    }
   ],
   "source": [
    "from ultralytics import YOLO\n",
    "\n",
    "model = YOLO(\"yolov8n-pose.pt\")  # Load YOLOv8 Pose model\n",
    "model.train(\n",
    "    data=\"/kaggle/working/UCF-YOLO/data.yaml\",\n",
    "    epochs=5,\n",
    "    imgsz=640,\n",
    "    batch=2,  # Reduce batch size\n",
    "    workers=2,  # Increase workers to prevent dataloader freezing\n",
    "    save_period=1  # Save model every epoch\n",
    ")\n"
   ]
  },
  {
   "cell_type": "code",
   "execution_count": 2,
   "metadata": {
    "_cell_guid": "b1076dfc-b9ad-4769-8c92-a6c4dae69d19",
    "_uuid": "8f2839f25d086af736a60e9eeb907d3b93b6e0e5",
    "execution": {
     "iopub.execute_input": "2025-03-05T06:22:32.033938Z",
     "iopub.status.busy": "2025-03-05T06:22:32.033561Z",
     "iopub.status.idle": "2025-03-05T06:22:32.844817Z",
     "shell.execute_reply": "2025-03-05T06:22:32.844048Z",
     "shell.execute_reply.started": "2025-03-05T06:22:32.033916Z"
    },
    "trusted": true
   },
   "outputs": [
    {
     "name": "stdout",
     "output_type": "stream",
     "text": [
      "Frame shape: (224, 224, 3)\n"
     ]
    }
   ],
   "source": [
    "import cv2\n",
    "\n",
    "def preprocess_frame(frame_path, target_size=(224, 224)):\n",
    "    # Load the frame\n",
    "    frame = cv2.imread(frame_path)\n",
    "    # Resize the frame\n",
    "    frame = cv2.resize(frame, target_size)\n",
    "    # Normalize pixel values to [0, 1]\n",
    "    frame = frame / 255.0\n",
    "    return frame\n",
    "\n",
    "# Example: Preprocess a frame\n",
    "sample_frame = preprocess_frame(X_train[0])\n",
    "print(\"Frame shape:\", sample_frame.shape)"
   ]
  },
  {
   "cell_type": "code",
   "execution_count": 3,
   "metadata": {
    "execution": {
     "iopub.execute_input": "2025-03-05T06:22:32.846460Z",
     "iopub.status.busy": "2025-03-05T06:22:32.846242Z",
     "iopub.status.idle": "2025-03-05T06:22:32.851518Z",
     "shell.execute_reply": "2025-03-05T06:22:32.850810Z",
     "shell.execute_reply.started": "2025-03-05T06:22:32.846442Z"
    },
    "trusted": true
   },
   "outputs": [],
   "source": [
    "import numpy as np\n",
    "\n",
    "def data_generator(frame_paths, labels, batch_size=32):\n",
    "    num_samples = len(frame_paths)\n",
    "    while True:\n",
    "        indices = np.arange(num_samples)\n",
    "        np.random.shuffle(indices)\n",
    "        for i in range(0, num_samples, batch_size):\n",
    "            batch_indices = indices[i:i + batch_size]\n",
    "            batch_paths = [frame_paths[j] for j in batch_indices]\n",
    "            batch_labels = [labels[j] for j in batch_indices]\n",
    "            batch_frames = [preprocess_frame(path) for path in batch_paths]\n",
    "            yield np.array(batch_frames), np.array(batch_labels)\n",
    "\n",
    "# Create data generators\n",
    "batch_size = 32\n",
    "train_gen = data_generator(X_train, y_train, batch_size)\n",
    "test_gen = data_generator(X_test, y_test, batch_size)"
   ]
  },
  {
   "cell_type": "code",
   "execution_count": null,
   "metadata": {
    "execution": {
     "execution_failed": "2025-03-05T08:22:20.667Z",
     "iopub.execute_input": "2025-03-05T06:22:32.852720Z",
     "iopub.status.busy": "2025-03-05T06:22:32.852522Z"
    },
    "trusted": true
   },
   "outputs": [
    {
     "name": "stdout",
     "output_type": "stream",
     "text": [
      "Downloading data from https://storage.googleapis.com/tensorflow/keras-applications/mobilenet/mobilenet_1_0_224_tf_no_top.h5\n",
      "\u001b[1m17225924/17225924\u001b[0m \u001b[32m━━━━━━━━━━━━━━━━━━━━\u001b[0m\u001b[37m\u001b[0m \u001b[1m0s\u001b[0m 0us/step\n",
      "Epoch 1/10\n",
      "\u001b[1m18262/39573\u001b[0m \u001b[32m━━━━━━━━━\u001b[0m\u001b[37m━━━━━━━━━━━\u001b[0m \u001b[1m2:18:48\u001b[0m 391ms/step - accuracy: 0.9443 - loss: 0.2064"
     ]
    }
   ],
   "source": [
    "import tensorflow as tf\n",
    "from tensorflow.keras.applications import MobileNet\n",
    "from tensorflow.keras.layers import Dense, GlobalAveragePooling2D\n",
    "from tensorflow.keras.models import Model\n",
    "\n",
    "# Load pre-trained MobileNet model\n",
    "base_model = MobileNet(weights='imagenet', include_top=False, input_shape=(224, 224, 3))\n",
    "\n",
    "# Add custom layers\n",
    "x = base_model.output\n",
    "x = GlobalAveragePooling2D()(x)\n",
    "x = Dense(1024, activation='relu')(x)\n",
    "predictions = Dense(len(label_encoder.classes_), activation='softmax')(x)  # Output layer\n",
    "\n",
    "# Create the final model\n",
    "model = Model(inputs=base_model.input, outputs=predictions)\n",
    "\n",
    "# Compile the model\n",
    "model.compile(optimizer='adam', loss='sparse_categorical_crossentropy', metrics=['accuracy'])\n",
    "\n",
    "# Train the model\n",
    "steps_per_epoch = len(X_train) // batch_size\n",
    "validation_steps = len(X_test) // batch_size\n",
    "\n",
    "history = model.fit(train_gen, steps_per_epoch=steps_per_epoch,\n",
    "                    validation_data=test_gen, validation_steps=validation_steps,\n",
    "                    epochs=10)"
   ]
  },
  {
   "cell_type": "code",
   "execution_count": null,
   "metadata": {
    "execution": {
     "execution_failed": "2025-03-05T08:22:20.667Z"
    },
    "trusted": true
   },
   "outputs": [],
   "source": [
    "# Evaluate the model\n",
    "test_loss, test_accuracy = model.evaluate(test_gen, steps=validation_steps)\n",
    "print(f\"Test Accuracy: {test_accuracy * 100:.2f}%\")"
   ]
  },
  {
   "cell_type": "code",
   "execution_count": null,
   "metadata": {
    "execution": {
     "execution_failed": "2025-03-05T08:22:20.667Z"
    },
    "trusted": true
   },
   "outputs": [],
   "source": [
    "# Save the model\n",
    "model.save(\"anomaly_detection_model.h5\")\n",
    "\n",
    "# Convert to TensorFlow Lite (optional)\n",
    "converter = tf.lite.TFLiteConverter.from_keras_model(model)\n",
    "tflite_model = converter.convert()\n",
    "with open(\"model.tflite\", \"wb\") as f:\n",
    "    f.write(tflite_model)"
   ]
  }
 ],
 "metadata": {
  "kaggle": {
   "accelerator": "nvidiaTeslaT4",
   "dataSources": [
    {
     "datasetId": 1710176,
     "sourceId": 2799594,
     "sourceType": "datasetVersion"
    }
   ],
   "dockerImageVersionId": 30919,
   "isGpuEnabled": true,
   "isInternetEnabled": true,
   "language": "python",
   "sourceType": "notebook"
  },
  "kernelspec": {
   "display_name": "Python 3",
   "language": "python",
   "name": "python3"
  },
  "language_info": {
   "codemirror_mode": {
    "name": "ipython",
    "version": 3
   },
   "file_extension": ".py",
   "mimetype": "text/x-python",
   "name": "python",
   "nbconvert_exporter": "python",
   "pygments_lexer": "ipython3",
   "version": "3.11.9"
  }
 },
 "nbformat": 4,
 "nbformat_minor": 4
}
